{
 "cells": [
  {
   "cell_type": "code",
   "execution_count": null,
   "metadata": {},
   "outputs": [],
   "source": [
    "import arcpy\n",
    "import os\n",
    "# Define the connection parameters\n",
    "out_folder_path = \"E:\\\\UNI\\\\GEOTOOLS-Programmation\\\\Rendu\\\\TPG\"  # Where to save the SDE connection file\n",
    "out_name = \"postgis_connection.sde\"              # Name for the SDE file\n",
    "database_platform = \"POSTGRESQL\"                 # Database platform\n",
    "instance = \"wscgeo1.unige.ch\"              # Server and port, default port for PostgreSQL is 5432\n",
    "account_authentication = 'DATABASE_AUTH'         # Use 'DATABASE_AUTH' (database authentication)\n",
    "username = \"etu\"                       # Your database username\n",
    "password = \"arcgis\"                       # Your database password\n",
    "database = \"ge\"                  # Name of your database\n",
    "# Create a database connection file\n",
    "arcpy.CreateDatabaseConnection_management(\n",
    "    out_folder_path,\n",
    "    out_name,\n",
    "    database_platform,\n",
    "    instance,\n",
    "    account_authentication,\n",
    "    username,\n",
    "    password,\n",
    "    \"\",\n",
    "    database\n",
    ")\n",
    "# Set the workspace to the path of the connection file\n",
    "connection_path = os.path.join(out_folder_path, out_name)"
   ]
  }
 ],
 "metadata": {
  "kernelspec": {
   "display_name": "ArcGISPro",
   "language": "Python",
   "name": "python3"
  },
  "language_info": {
   "file_extension": ".py",
   "name": "python",
   "version": "3"
  }
 },
 "nbformat": 4,
 "nbformat_minor": 2
}
